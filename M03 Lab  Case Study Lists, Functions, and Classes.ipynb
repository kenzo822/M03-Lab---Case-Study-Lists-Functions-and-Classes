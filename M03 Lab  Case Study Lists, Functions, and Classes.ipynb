{
 "cells": [
  {
   "cell_type": "code",
   "execution_count": 1,
   "id": "59ab2b3c",
   "metadata": {},
   "outputs": [],
   "source": [
    "# Abdulkazeem Bisiriyu\n",
    "# M03 Lab - Case Study: Lists, Functions, and Classes\n",
    "# Program list vehicle attributes\n",
    "# Class vehicle variable type to display if it is a car or a truck\n",
    "# Subclass automobile displays the variables: year, make, model, doors, and roof type\n",
    "# Super class named vehicle"
   ]
  },
  {
   "cell_type": "code",
   "execution_count": 3,
   "id": "70914535",
   "metadata": {},
   "outputs": [
    {
     "name": "stdout",
     "output_type": "stream",
     "text": [
      "Is the vehicle a truck or a car? car\n",
      "What year is the vehicle? 2020\n",
      "What make is the vehicle? Lexus\n",
      "What model is the vehicle? ES 350 Sport\n",
      "How many doors does the vehicle have? 4\n",
      "Does it have a sun-roof or a solid roof? sun-roof\n",
      "\n",
      "Vehicle Type: car\n",
      "Year: 2020\n",
      "Make: Lexus\n",
      "Model: ES 350 Sport\n",
      "Number of doors: 4\n",
      "Type of roof: sun-roof\n"
     ]
    }
   ],
   "source": [
    "# Create a super class called Vehicle\n",
    "class Vehicle:\n",
    "    def __init__(self, vehicle_type):\n",
    "        self.vehicle_type = vehicle_type\n",
    "\n",
    "# Create a subclass called Automobile that inherits from Vehicle\n",
    "class Automobile(Vehicle):\n",
    "    def __init__(self, vehicle_type, year, make, model, doors, roof):\n",
    "        super().__init__(vehicle_type)\n",
    "        self.year = year\n",
    "        self.make = make\n",
    "        self.model = model\n",
    "        self.doors = doors\n",
    "        self.roof = roof\n",
    "\n",
    "# Accept user input for the car's attributes\n",
    "vehicle_type = input(\"Is the vehicle a truck or a car? \")\n",
    "year = input(\"What year is the vehicle? \")\n",
    "make = input(\"What make is the vehicle? \")\n",
    "model = input(\"What model is the vehicle? \")\n",
    "doors = input(\"How many doors does the vehicle have? \")\n",
    "roof = input(\"Does it have a sun-roof or a solid roof? \")\n",
    "\n",
    "# Create an instance of the Automobile class\n",
    "car = Automobile(vehicle_type, year, make, model, doors, roof)\n",
    "\n",
    "# Output the data in an easy-to-read format\n",
    "print(\"\\nVehicle Type:\", car.vehicle_type)\n",
    "print(\"Year:\", car.year)\n",
    "print(\"Make:\", car.make)\n",
    "print(\"Model:\", car.model)\n",
    "print(\"Number of doors:\", car.doors)\n",
    "print(\"Type of roof:\", car.roof)\n"
   ]
  }
 ],
 "metadata": {
  "kernelspec": {
   "display_name": "Python 3 (ipykernel)",
   "language": "python",
   "name": "python3"
  },
  "language_info": {
   "codemirror_mode": {
    "name": "ipython",
    "version": 3
   },
   "file_extension": ".py",
   "mimetype": "text/x-python",
   "name": "python",
   "nbconvert_exporter": "python",
   "pygments_lexer": "ipython3",
   "version": "3.11.4"
  }
 },
 "nbformat": 4,
 "nbformat_minor": 5
}
